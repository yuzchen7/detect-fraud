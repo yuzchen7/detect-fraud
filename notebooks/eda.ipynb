{
 "cells": [
  {
   "cell_type": "markdown",
   "id": "dba68388",
   "metadata": {},
   "source": [
    "# EDA\n",
    "\n",
    "Create your own EDA below/ Create as many code-blocks as you need.\n",
    "\n",
    "Once you've completed your EDA, complete the section titled **Reflections** where you will answer questions about your EDA.\n",
    "\n",
    "**Note**: Since this dataset is large, visualizations might load slower. You may want to consider using the `sample()` method if this dataset is too large for your computer to process in a reasonable amount of time."
   ]
  },
  {
   "cell_type": "code",
   "execution_count": 62,
   "id": "0a42d7d8",
   "metadata": {},
   "outputs": [],
   "source": [
    "import pandas as pd \n",
    "import numpy as np \n",
    "\n",
    "import seaborn as sns\n",
    "import matplotlib.pyplot as plt"
   ]
  },
  {
   "cell_type": "code",
   "execution_count": 63,
   "id": "95ac8ec2",
   "metadata": {},
   "outputs": [
    {
     "data": {
      "text/html": [
       "<div>\n",
       "<style scoped>\n",
       "    .dataframe tbody tr th:only-of-type {\n",
       "        vertical-align: middle;\n",
       "    }\n",
       "\n",
       "    .dataframe tbody tr th {\n",
       "        vertical-align: top;\n",
       "    }\n",
       "\n",
       "    .dataframe thead th {\n",
       "        text-align: right;\n",
       "    }\n",
       "</style>\n",
       "<table border=\"1\" class=\"dataframe\">\n",
       "  <thead>\n",
       "    <tr style=\"text-align: right;\">\n",
       "      <th></th>\n",
       "      <th>type</th>\n",
       "      <th>amount</th>\n",
       "      <th>nameOrig</th>\n",
       "      <th>oldbalanceOrg</th>\n",
       "      <th>newbalanceOrig</th>\n",
       "      <th>nameDest</th>\n",
       "      <th>oldbalanceDest</th>\n",
       "      <th>newbalanceDest</th>\n",
       "      <th>isFraud</th>\n",
       "      <th>isFlaggedFraud</th>\n",
       "    </tr>\n",
       "  </thead>\n",
       "  <tbody>\n",
       "    <tr>\n",
       "      <th>0</th>\n",
       "      <td>PAYMENT</td>\n",
       "      <td>983.09</td>\n",
       "      <td>C1454812978</td>\n",
       "      <td>36730.24</td>\n",
       "      <td>35747.15</td>\n",
       "      <td>M1491308340</td>\n",
       "      <td>0.00</td>\n",
       "      <td>0.00</td>\n",
       "      <td>0</td>\n",
       "      <td>0</td>\n",
       "    </tr>\n",
       "    <tr>\n",
       "      <th>1</th>\n",
       "      <td>PAYMENT</td>\n",
       "      <td>55215.25</td>\n",
       "      <td>C1031766358</td>\n",
       "      <td>99414.00</td>\n",
       "      <td>44198.75</td>\n",
       "      <td>M2102868029</td>\n",
       "      <td>0.00</td>\n",
       "      <td>0.00</td>\n",
       "      <td>0</td>\n",
       "      <td>0</td>\n",
       "    </tr>\n",
       "    <tr>\n",
       "      <th>2</th>\n",
       "      <td>CASH_IN</td>\n",
       "      <td>220986.01</td>\n",
       "      <td>C1451868666</td>\n",
       "      <td>7773074.97</td>\n",
       "      <td>7994060.98</td>\n",
       "      <td>C1339195526</td>\n",
       "      <td>924031.48</td>\n",
       "      <td>703045.48</td>\n",
       "      <td>0</td>\n",
       "      <td>0</td>\n",
       "    </tr>\n",
       "    <tr>\n",
       "      <th>3</th>\n",
       "      <td>TRANSFER</td>\n",
       "      <td>2357394.75</td>\n",
       "      <td>C458368123</td>\n",
       "      <td>0.00</td>\n",
       "      <td>0.00</td>\n",
       "      <td>C620979654</td>\n",
       "      <td>4202580.45</td>\n",
       "      <td>6559975.19</td>\n",
       "      <td>0</td>\n",
       "      <td>0</td>\n",
       "    </tr>\n",
       "    <tr>\n",
       "      <th>4</th>\n",
       "      <td>CASH_OUT</td>\n",
       "      <td>67990.14</td>\n",
       "      <td>C1098978063</td>\n",
       "      <td>0.00</td>\n",
       "      <td>0.00</td>\n",
       "      <td>C142246322</td>\n",
       "      <td>625317.04</td>\n",
       "      <td>693307.19</td>\n",
       "      <td>0</td>\n",
       "      <td>0</td>\n",
       "    </tr>\n",
       "    <tr>\n",
       "      <th>...</th>\n",
       "      <td>...</td>\n",
       "      <td>...</td>\n",
       "      <td>...</td>\n",
       "      <td>...</td>\n",
       "      <td>...</td>\n",
       "      <td>...</td>\n",
       "      <td>...</td>\n",
       "      <td>...</td>\n",
       "      <td>...</td>\n",
       "      <td>...</td>\n",
       "    </tr>\n",
       "    <tr>\n",
       "      <th>999995</th>\n",
       "      <td>PAYMENT</td>\n",
       "      <td>13606.07</td>\n",
       "      <td>C768838592</td>\n",
       "      <td>114122.11</td>\n",
       "      <td>100516.04</td>\n",
       "      <td>M1593119373</td>\n",
       "      <td>0.00</td>\n",
       "      <td>0.00</td>\n",
       "      <td>0</td>\n",
       "      <td>0</td>\n",
       "    </tr>\n",
       "    <tr>\n",
       "      <th>999996</th>\n",
       "      <td>PAYMENT</td>\n",
       "      <td>9139.61</td>\n",
       "      <td>C1912748675</td>\n",
       "      <td>0.00</td>\n",
       "      <td>0.00</td>\n",
       "      <td>M842968564</td>\n",
       "      <td>0.00</td>\n",
       "      <td>0.00</td>\n",
       "      <td>0</td>\n",
       "      <td>0</td>\n",
       "    </tr>\n",
       "    <tr>\n",
       "      <th>999997</th>\n",
       "      <td>CASH_OUT</td>\n",
       "      <td>153650.41</td>\n",
       "      <td>C1494179549</td>\n",
       "      <td>50677.00</td>\n",
       "      <td>0.00</td>\n",
       "      <td>C1560012502</td>\n",
       "      <td>0.00</td>\n",
       "      <td>380368.36</td>\n",
       "      <td>0</td>\n",
       "      <td>0</td>\n",
       "    </tr>\n",
       "    <tr>\n",
       "      <th>999998</th>\n",
       "      <td>CASH_OUT</td>\n",
       "      <td>163810.52</td>\n",
       "      <td>C116856975</td>\n",
       "      <td>0.00</td>\n",
       "      <td>0.00</td>\n",
       "      <td>C1348490647</td>\n",
       "      <td>357850.15</td>\n",
       "      <td>521660.67</td>\n",
       "      <td>0</td>\n",
       "      <td>0</td>\n",
       "    </tr>\n",
       "    <tr>\n",
       "      <th>999999</th>\n",
       "      <td>CASH_OUT</td>\n",
       "      <td>51379.41</td>\n",
       "      <td>C2103541974</td>\n",
       "      <td>45503.43</td>\n",
       "      <td>0.00</td>\n",
       "      <td>C924733771</td>\n",
       "      <td>202760.18</td>\n",
       "      <td>254139.59</td>\n",
       "      <td>0</td>\n",
       "      <td>0</td>\n",
       "    </tr>\n",
       "  </tbody>\n",
       "</table>\n",
       "<p>1000000 rows × 10 columns</p>\n",
       "</div>"
      ],
      "text/plain": [
       "            type      amount     nameOrig  oldbalanceOrg  newbalanceOrig  \\\n",
       "0        PAYMENT      983.09  C1454812978       36730.24        35747.15   \n",
       "1        PAYMENT    55215.25  C1031766358       99414.00        44198.75   \n",
       "2        CASH_IN   220986.01  C1451868666     7773074.97      7994060.98   \n",
       "3       TRANSFER  2357394.75   C458368123           0.00            0.00   \n",
       "4       CASH_OUT    67990.14  C1098978063           0.00            0.00   \n",
       "...          ...         ...          ...            ...             ...   \n",
       "999995   PAYMENT    13606.07   C768838592      114122.11       100516.04   \n",
       "999996   PAYMENT     9139.61  C1912748675           0.00            0.00   \n",
       "999997  CASH_OUT   153650.41  C1494179549       50677.00            0.00   \n",
       "999998  CASH_OUT   163810.52   C116856975           0.00            0.00   \n",
       "999999  CASH_OUT    51379.41  C2103541974       45503.43            0.00   \n",
       "\n",
       "           nameDest  oldbalanceDest  newbalanceDest  isFraud  isFlaggedFraud  \n",
       "0       M1491308340            0.00            0.00        0               0  \n",
       "1       M2102868029            0.00            0.00        0               0  \n",
       "2       C1339195526       924031.48       703045.48        0               0  \n",
       "3        C620979654      4202580.45      6559975.19        0               0  \n",
       "4        C142246322       625317.04       693307.19        0               0  \n",
       "...             ...             ...             ...      ...             ...  \n",
       "999995  M1593119373            0.00            0.00        0               0  \n",
       "999996   M842968564            0.00            0.00        0               0  \n",
       "999997  C1560012502            0.00       380368.36        0               0  \n",
       "999998  C1348490647       357850.15       521660.67        0               0  \n",
       "999999   C924733771       202760.18       254139.59        0               0  \n",
       "\n",
       "[1000000 rows x 10 columns]"
      ]
     },
     "execution_count": 63,
     "metadata": {},
     "output_type": "execute_result"
    }
   ],
   "source": [
    "# import data \n",
    "transactions_df = pd.read_csv(\"../data/bank_transactions.csv\")\n",
    "transactions_df"
   ]
  },
  {
   "cell_type": "code",
   "execution_count": 64,
   "id": "a6ebe601",
   "metadata": {},
   "outputs": [
    {
     "data": {
      "text/plain": [
       "(1000000, 10)"
      ]
     },
     "execution_count": 64,
     "metadata": {},
     "output_type": "execute_result"
    }
   ],
   "source": [
    "# TODO: view the shape of your data\n",
    "transactions_df.shape"
   ]
  },
  {
   "cell_type": "markdown",
   "id": "3b5935a7",
   "metadata": {},
   "source": [
    "### Q1 Visualizations: Distribution of Transaction Amounts"
   ]
  },
  {
   "cell_type": "code",
   "execution_count": 65,
   "id": "4884101d",
   "metadata": {},
   "outputs": [
    {
     "data": {
      "image/png": "[encoded data removed]",
      "text/plain": [
       "<Figure size 640x480 with 1 Axes>"
      ]
     },
     "metadata": {},
     "output_type": "display_data"
    }
   ],
   "source": [
    "# TODO: Begin your EDA\n",
    "Q1 = transactions_df['amount'].quantile(0.25)\n",
    "Q3 = transactions_df['amount'].quantile(0.75)\n",
    "IQR = Q3 - Q1\n",
    "\n",
    "lower_bound = max(0, Q1 - 1.5 * IQR)\n",
    "upper_bound = Q3 + 1.5 * IQR\n",
    "\n",
    "df_filtered = transactions_df[(transactions_df['amount'] >= lower_bound) & (transactions_df['amount'] <= upper_bound)]\n",
    "\n",
    "plt.hist(df_filtered['amount'], bins=100, edgecolor='black')\n",
    "plt.xlabel(\"Transaction Amount\")\n",
    "plt.ylabel(\"Frequency\")\n",
    "plt.title(f\"Distribution of Transaction Amounts (Between ${lower_bound:,.0f} and ${upper_bound:,.0f})\")\n",
    "plt.show()\n"
   ]
  },
  {
   "cell_type": "markdown",
   "id": "5ed2b078",
   "metadata": {},
   "source": [
    "### Q2: Amount vs Old Balance Origin by Fraud Status"
   ]
  },
  {
   "cell_type": "code",
   "execution_count": 66,
   "id": "061ac53e",
   "metadata": {},
   "outputs": [
    {
     "data": {
      "image/png": "[encoded data removed]",
      "text/plain": [
       "<Figure size 800x600 with 1 Axes>"
      ]
     },
     "metadata": {},
     "output_type": "display_data"
    }
   ],
   "source": [
    "plt.figure(figsize=(8,6))\n",
    "sns.scatterplot(data=transactions_df, x='amount', y='oldbalanceOrg', hue='isFraud', alpha=0.6, palette={0: 'skyblue', 1: 'red'},)\n",
    "plt.title('Amount vs Old Balance Origin by Fraud Status')\n",
    "plt.show()"
   ]
  },
  {
   "cell_type": "markdown",
   "id": "3cc38b58",
   "metadata": {},
   "source": [
    "### Q3"
   ]
  },
  {
   "cell_type": "code",
   "execution_count": null,
   "id": "3840624c",
   "metadata": {},
   "outputs": [
    {
     "data": {
      "text/html": [
       "<div>\n",
       "<style scoped>\n",
       "    .dataframe tbody tr th:only-of-type {\n",
       "        vertical-align: middle;\n",
       "    }\n",
       "\n",
       "    .dataframe tbody tr th {\n",
       "        vertical-align: top;\n",
       "    }\n",
       "\n",
       "    .dataframe thead th {\n",
       "        text-align: right;\n",
       "    }\n",
       "</style>\n",
       "<table border=\"1\" class=\"dataframe\">\n",
       "  <thead>\n",
       "    <tr style=\"text-align: right;\">\n",
       "      <th></th>\n",
       "      <th>count</th>\n",
       "      <th>mean</th>\n",
       "      <th>std</th>\n",
       "      <th>min</th>\n",
       "      <th>25%</th>\n",
       "      <th>50%</th>\n",
       "      <th>75%</th>\n",
       "      <th>max</th>\n",
       "    </tr>\n",
       "    <tr>\n",
       "      <th>type</th>\n",
       "      <th></th>\n",
       "      <th></th>\n",
       "      <th></th>\n",
       "      <th></th>\n",
       "      <th></th>\n",
       "      <th></th>\n",
       "      <th></th>\n",
       "      <th></th>\n",
       "    </tr>\n",
       "  </thead>\n",
       "  <tbody>\n",
       "    <tr>\n",
       "      <th>CASH_IN</th>\n",
       "      <td>219955.0</td>\n",
       "      <td>168928.914668</td>\n",
       "      <td>1.267864e+05</td>\n",
       "      <td>0.43</td>\n",
       "      <td>70092.845</td>\n",
       "      <td>142942.990</td>\n",
       "      <td>240085.0800</td>\n",
       "      <td>1609288.13</td>\n",
       "    </tr>\n",
       "    <tr>\n",
       "      <th>CASH_OUT</th>\n",
       "      <td>351360.0</td>\n",
       "      <td>175584.659320</td>\n",
       "      <td>1.703743e+05</td>\n",
       "      <td>0.00</td>\n",
       "      <td>72382.815</td>\n",
       "      <td>146209.915</td>\n",
       "      <td>245881.7625</td>\n",
       "      <td>10000000.00</td>\n",
       "    </tr>\n",
       "    <tr>\n",
       "      <th>DEBIT</th>\n",
       "      <td>6417.0</td>\n",
       "      <td>5445.890813</td>\n",
       "      <td>1.302416e+04</td>\n",
       "      <td>5.24</td>\n",
       "      <td>1530.240</td>\n",
       "      <td>3099.530</td>\n",
       "      <td>5423.2500</td>\n",
       "      <td>389762.68</td>\n",
       "    </tr>\n",
       "    <tr>\n",
       "      <th>PAYMENT</th>\n",
       "      <td>338573.0</td>\n",
       "      <td>13055.592085</td>\n",
       "      <td>1.256291e+04</td>\n",
       "      <td>0.03</td>\n",
       "      <td>4377.100</td>\n",
       "      <td>9481.670</td>\n",
       "      <td>17565.5600</td>\n",
       "      <td>230549.18</td>\n",
       "    </tr>\n",
       "    <tr>\n",
       "      <th>TRANSFER</th>\n",
       "      <td>83695.0</td>\n",
       "      <td>911827.155179</td>\n",
       "      <td>1.896175e+06</td>\n",
       "      <td>2.60</td>\n",
       "      <td>217105.800</td>\n",
       "      <td>487883.710</td>\n",
       "      <td>978027.6650</td>\n",
       "      <td>92445516.64</td>\n",
       "    </tr>\n",
       "  </tbody>\n",
       "</table>\n",
       "</div>"
      ],
      "text/plain": [
       "             count           mean           std   min         25%         50%  \\\n",
       "type                                                                            \n",
       "CASH_IN   219955.0  168928.914668  1.267864e+05  0.43   70092.845  142942.990   \n",
       "CASH_OUT  351360.0  175584.659320  1.703743e+05  0.00   72382.815  146209.915   \n",
       "DEBIT       6417.0    5445.890813  1.302416e+04  5.24    1530.240    3099.530   \n",
       "PAYMENT   338573.0   13055.592085  1.256291e+04  0.03    4377.100    9481.670   \n",
       "TRANSFER   83695.0  911827.155179  1.896175e+06  2.60  217105.800  487883.710   \n",
       "\n",
       "                  75%          max  \n",
       "type                                \n",
       "CASH_IN   240085.0800   1609288.13  \n",
       "CASH_OUT  245881.7625  10000000.00  \n",
       "DEBIT       5423.2500    389762.68  \n",
       "PAYMENT    17565.5600    230549.18  \n",
       "TRANSFER  978027.6650  92445516.64  "
      ]
     },
     "execution_count": 68,
     "metadata": {},
     "output_type": "execute_result"
    }
   ],
   "source": [
    "transactions_df.groupby('type')['amount'].describe()"
   ]
  },
  {
   "cell_type": "markdown",
   "id": "f9eb1a24",
   "metadata": {},
   "source": [
    "### Q4"
   ]
  },
  {
   "cell_type": "code",
   "execution_count": 70,
   "id": "49ee02eb",
   "metadata": {},
   "outputs": [
    {
     "data": {
      "text/html": [
       "<div>\n",
       "<style scoped>\n",
       "    .dataframe tbody tr th:only-of-type {\n",
       "        vertical-align: middle;\n",
       "    }\n",
       "\n",
       "    .dataframe tbody tr th {\n",
       "        vertical-align: top;\n",
       "    }\n",
       "\n",
       "    .dataframe thead th {\n",
       "        text-align: right;\n",
       "    }\n",
       "</style>\n",
       "<table border=\"1\" class=\"dataframe\">\n",
       "  <thead>\n",
       "    <tr style=\"text-align: right;\">\n",
       "      <th>type</th>\n",
       "      <th>CASH_IN</th>\n",
       "      <th>CASH_OUT</th>\n",
       "      <th>DEBIT</th>\n",
       "      <th>PAYMENT</th>\n",
       "      <th>TRANSFER</th>\n",
       "    </tr>\n",
       "    <tr>\n",
       "      <th>isFraud</th>\n",
       "      <th></th>\n",
       "      <th></th>\n",
       "      <th></th>\n",
       "      <th></th>\n",
       "      <th></th>\n",
       "    </tr>\n",
       "  </thead>\n",
       "  <tbody>\n",
       "    <tr>\n",
       "      <th>0</th>\n",
       "      <td>168928.914668</td>\n",
       "      <td>1.734277e+05</td>\n",
       "      <td>5445.890813</td>\n",
       "      <td>13055.592085</td>\n",
       "      <td>9.081874e+05</td>\n",
       "    </tr>\n",
       "    <tr>\n",
       "      <th>1</th>\n",
       "      <td>0.000000</td>\n",
       "      <td>1.326971e+06</td>\n",
       "      <td>0.000000</td>\n",
       "      <td>0.000000</td>\n",
       "      <td>1.384176e+06</td>\n",
       "    </tr>\n",
       "  </tbody>\n",
       "</table>\n",
       "</div>"
      ],
      "text/plain": [
       "type           CASH_IN      CASH_OUT        DEBIT       PAYMENT      TRANSFER\n",
       "isFraud                                                                      \n",
       "0        168928.914668  1.734277e+05  5445.890813  13055.592085  9.081874e+05\n",
       "1             0.000000  1.326971e+06     0.000000      0.000000  1.384176e+06"
      ]
     },
     "execution_count": 70,
     "metadata": {},
     "output_type": "execute_result"
    }
   ],
   "source": [
    "transactions_df.groupby(['isFraud', 'type'])['amount'].mean().unstack().fillna(0)"
   ]
  },
  {
   "cell_type": "markdown",
   "id": "9d2e9125",
   "metadata": {},
   "source": [
    "### Q5"
   ]
  },
  {
   "cell_type": "code",
   "execution_count": 81,
   "id": "eac1f3b1",
   "metadata": {},
   "outputs": [
    {
     "name": "stdout",
     "output_type": "stream",
     "text": [
      "                 Actual Fraud=0  Actual Fraud=1\n",
      "Flagged Fraud=0          998703            1296\n",
      "Flagged Fraud=1               0               1\n"
     ]
    }
   ],
   "source": [
    "pivot = pd.pivot_table(\n",
    "    transactions_df,\n",
    "    values='type',            # 选一列不为空的列，做计数用\n",
    "    index='isFlaggedFraud',\n",
    "    columns='isFraud',\n",
    "    aggfunc='count',\n",
    "    fill_value=0\n",
    ")\n",
    "\n",
    "pivot.columns = ['Actual Fraud=0', 'Actual Fraud=1']\n",
    "pivot.index = ['Flagged Fraud=0', 'Flagged Fraud=1']\n",
    "\n",
    "print(pivot)"
   ]
  },
  {
   "cell_type": "markdown",
   "id": "5a6d360d",
   "metadata": {},
   "source": [
    "## Reflections\n",
    "\n",
    "Answer each question based on the visualizations that you've generated.\n",
    "\n",
    "Remember, you must justify your answers with proof."
   ]
  },
  {
   "cell_type": "markdown",
   "id": "4702d01d",
   "metadata": {},
   "source": [
    "### Q1\n",
    "\n",
    "Take a closer look at the numeric features in your dataset. How are these values distributed and what might this tell you about how most transactions behave compared to a few **rare** ones?\n",
    "\n",
    "**Hint**: Consider using visualizations that highlight frequency across value ranges.\n",
    "\n",
    "Answer: Most transactions occur with amounts below 50,000, indicating that the distribution of transaction amounts is right-skewed. From the histogram of transaction amounts, we can see that lower transaction amounts have higher frequency. As the transaction amount increases, the frequency of transactions decreases significantly. This suggests that the majority of transactions are small to moderate in value, while only a few rare transactions involve large amounts."
   ]
  },
  {
   "cell_type": "markdown",
   "id": "1699ba71",
   "metadata": {},
   "source": [
    "### Q2\n",
    "\n",
    "When comparing different numerical features against one another, do any interesting patterns emerge for transactions marked as fraudulent? Are there particular regions or ranges where these transactions seem to concentrate?\n",
    "\n",
    "**Hint**: Try comparing two numeric features at a time while distinguishing between fraud and non-fraud. Use visual cues to spot clusters or anomalies.\n",
    "\n",
    "Answer: Comparing 'amount' and 'oldbalanceOrg', we can observe that there is a linear relationship between 0 to 1 with fuard transaction，we can indicated that as the transaction amount closer to the original account balance，there is highly passible fuard. we alson see that all the fuard transaction with amount no more then 1 as the original account balance increase, which means that most of fuard transactions occur in a relatively small amount."
   ]
  },
  {
   "cell_type": "markdown",
   "id": "561cffc4",
   "metadata": {},
   "source": [
    "### Q3\n",
    "\n",
    "How do types of transaction relate to the typical amounts involved? Are some types of transactions consistently larger or smaller than others?\n",
    "\n",
    "**Hint**: Break the dataset down by transaction type and compare summary statistics.\n",
    "\n",
    "Answer: TRANSFER and CASH_OUT transactions usually involve much larger amounts compared to other types. On the other hand, DEBIT and PAYMENT transactions tend to be smaller, suggesting they’re mostly used for daily spending or routine payments. This indicated that certain types of transactions are typically associated with high-value transfers, while others are more common for smaller, regular expenses."
   ]
  },
  {
   "cell_type": "markdown",
   "id": "211b2b6a",
   "metadata": {},
   "source": [
    "### Q4\n",
    "\n",
    "Do transaction amounts vary when you compare fraudulent and non-fraudulent transactions across different transaction types? What patterns emerge when you look at both fraud status and transaction type together?\n",
    "\n",
    "**Hint**:  Try summarizing average transaction amounts by both fraud label and transaction type to compare across categories.\n",
    "\n",
    "Answer: For fraudulent accounts, transactions of types 'CASH_IN', 'DEBIT', and 'PAYMENT' are almost nonexistent, and their amounts are effectively zero. Also, fraudulent transactions involve much larger amounts with in type 'CASH_OUT' and 'TRANSFER', which indicates that fraudsters tend to carry out large withdrawals and transfers. Thus, fraudsters specifically target transaction types where large sums can be illicitly withdrawn or transferred."
   ]
  },
  {
   "cell_type": "markdown",
   "id": "c5b31047",
   "metadata": {},
   "source": [
    "## Q5\n",
    "\n",
    "Consider how well the system's built-in fraud flag (`isFlaggedFraud`) aligns with actual fraudulent activity. Are there mismatches? What does this tell you about the system's current performance?\n",
    "\n",
    "**Hint**: Try organizing the data in a way that shows how often flagged transactions are truly fraudulent and how often fraud goes unflagged.\n",
    "\n",
    "Answer: The system is really bad at spotting fraud transactions. Out of all the fraud cases, it missed 1,296 and only caught 1 correctly. That means the recall is about 0.077%, which is less than 0.1%. In other words, to avoid false alarms, the system barely flags anything, which seriously hurts its ability to prevent fraud in real life. It definitely needs to improve how sensitive and effective the model is."
   ]
  }
 ],
 "metadata": {
  "kernelspec": {
   "display_name": "ds",
   "language": "python",
   "name": "python3"
  },
  "language_info": {
   "codemirror_mode": {
    "name": "ipython",
    "version": 3
   },
   "file_extension": ".py",
   "mimetype": "text/x-python",
   "name": "python",
   "nbconvert_exporter": "python",
   "pygments_lexer": "ipython3",
   "version": "3.12.9"
  }
 },
 "nbformat": 4,
 "nbformat_minor": 5
}
